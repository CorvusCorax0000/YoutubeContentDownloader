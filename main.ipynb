{
 "cells": [
  {
   "cell_type": "markdown",
   "metadata": {},
   "source": [
    "Execute the code block below first to get links of videos you want to download."
   ]
  },
  {
   "cell_type": "code",
   "execution_count": null,
   "metadata": {},
   "outputs": [],
   "source": [
    "from googleapiclient.discovery import build\n",
    "\n",
    "api_key = 'YOUR_API_KEY' # replace with your YouTube Data API\n",
    "\n",
    "youtube = build('youtube', 'v3', developerKey=api_key)\n",
    "\n",
    "playlist_id = 'PL06diOotXAJJHjvUm7FNNG5a7XUA2_C27'  # Just the ID, not the full URL\n",
    "\n",
    "# Request the playlist items\n",
    "playlist_items = youtube.playlistItems().list(\n",
    "    part='contentDetails',\n",
    "    playlistId=playlist_id,\n",
    "    maxResults=50  # Adjust this number to the number of videos you want to retrieve per request\n",
    ").execute()\n",
    "\n",
    "video_ids = [item['contentDetails']['videoId']\n",
    "             for item in playlist_items['items']]\n",
    "\n",
    "video_links = [\n",
    "    f'https://www.youtube.com/watch?v={video_id}' for video_id in video_ids]\n",
    "\n",
    "for link in video_links:\n",
    "    print(link)"
   ]
  },
  {
   "cell_type": "markdown",
   "metadata": {},
   "source": [
    "Execute this code block below to start downloading. The downloading process cannot be stopped in the middle, else you will have to download the content from the start when running the code again."
   ]
  },
  {
   "cell_type": "code",
   "execution_count": null,
   "metadata": {},
   "outputs": [],
   "source": [
    "from pytube import YouTube\n",
    "from math import ceil\n",
    "\n",
    "for link in video_links:\n",
    "    yt = YouTube(link)\n",
    "    # video = yt.streams.get_highest_resolution() # replace with this when you want to download videos instead of audios\n",
    "    audio = yt.streams.filter(only_audio=True).first()\n",
    "    file_size = audio.filesize_approx\n",
    "    file_size_MB = round(file_size / (1024 * 1024), 2) if file_size else 0.0\n",
    "    print(f\"Downloading: {yt.title} ({file_size_MB} Mb)\")\n",
    "    audio.download(\"D:\\musicLib\") # replace directory with"
   ]
  }
 ],
 "metadata": {
  "kernelspec": {
   "display_name": "Python 3",
   "language": "python",
   "name": "python3"
  },
  "language_info": {
   "codemirror_mode": {
    "name": "ipython",
    "version": 3
   },
   "file_extension": ".py",
   "mimetype": "text/x-python",
   "name": "python",
   "nbconvert_exporter": "python",
   "pygments_lexer": "ipython3",
   "version": "3.11.6"
  }
 },
 "nbformat": 4,
 "nbformat_minor": 2
}
